{
  "nbformat": 4,
  "nbformat_minor": 0,
  "metadata": {
    "colab": {
      "provenance": []
    },
    "kernelspec": {
      "name": "python3",
      "display_name": "Python 3"
    },
    "language_info": {
      "name": "python"
    }
  },
  "cells": [
    {
      "cell_type": "code",
      "execution_count": null,
      "metadata": {
        "id": "uipdJmWJJwQY"
      },
      "outputs": [],
      "source": [
        "import openpyxl\n",
        "workbook = openpyxl.Workbook()\n",
        "worksheet = workbook.active\n",
        "\n",
        "worksheet[\"A2\"] = \"請求書\"\n",
        "worksheet[\"A4\"] =\"株式会社ABC\"\n",
        "worksheet[\"A5\"] =\"〒101-0022 東京都千代田区神田練塀町300\"\n",
        "worksheet[\"A6\"] =\"TEL:03-1234-5678 FAX:03-1234-5678\"\n",
        "worksheet[\"A7\"] =\"担当者名:鈴木一郎 様\"\n",
        "worksheet[\"E4\"] = \"No.\"\n",
        "worksheet[\"F4\"] = \"0001\"\n",
        "\n",
        "from datetime import datetime\n",
        "today = datetime.today()\n",
        "worksheet[\"E5\"] = \"日付\"\n",
        "worksheet[\"F5\"] = today.strftime(\"%Y/%m/%d\")\n",
        "\n",
        "header = [\"商品名\", \"数量\", \"単価\", \"金額\"]\n",
        "worksheet.append(header)\n",
        "\n",
        "datas =[\n",
        "    [\"商品A\", 2, 10000, 20000],\n",
        "    [\"商品B\", 1, 15000, 15000]\n",
        "]\n",
        "\n",
        "total = 0\n",
        "\n",
        "for row in datas:\n",
        "  worksheet.append(row)\n",
        "  total += row[3]\n",
        "\n",
        "worksheet.append([\"\", \"\", \"\", total])\n",
        "worksheet.append([])\n",
        "worksheet.append ([\"小計\", \" \", \" \", total])\n",
        "worksheet.append ([\"消費税\", \" \", \" \", int(total * 0.1)])\n",
        "worksheet.append ([\"合計\", \" \", \" \", int(total * 1.1)])\n",
        "\n",
        "worksheet.insert_cols(1, 1)\n",
        "worksheet.insert_rows(8, 2)\n",
        "\n",
        "backup_filename = f\"請求書_{today.strftime('%Y%m%d')}.xlsx\"\n",
        "workbook.save(backup_filename)\n"
      ]
    }
  ]
}