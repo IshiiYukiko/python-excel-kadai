{
  "nbformat": 4,
  "nbformat_minor": 0,
  "metadata": {
    "colab": {
      "provenance": []
    },
    "kernelspec": {
      "name": "python3",
      "display_name": "Python 3"
    },
    "language_info": {
      "name": "python"
    }
  },
  "cells": [
    {
      "cell_type": "code",
      "execution_count": 7,
      "metadata": {
        "id": "emIaC53TThr1"
      },
      "outputs": [],
      "source": [
        "import openpyxl\n",
        "import pandas as pd\n",
        "from openpyxl.styles import PatternFill\n",
        "\n",
        "# 処理対象のファイル名のリストを格納\n",
        "file_list = ['2022_年間売上表.xlsx', '2023_年間売上表.xlsx']\n",
        "\n",
        "# 結合後のデータを格納するための空のデータフレームを作成\n",
        "df = pd.DataFrame()\n",
        "\n",
        "# ファイルを一つずつ処理する\n",
        "for file_name in file_list:\n",
        "    # Excelファイルを読み込む\n",
        "    temp_df = pd.read_excel(file_name, header=None)\n",
        "\n",
        "    # データフレームの列名を指定\n",
        "    temp_df.columns = ['売上年', '商品', '金額(千円)']\n",
        "\n",
        "    # concat()でデータフレームを連結\n",
        "    df = pd.concat([df, temp_df], ignore_index=True)\n",
        "\n",
        "# 「商品」「売上年」ごとにグループ化\n",
        "grouped = df.groupby(['商品', '売上年']).agg({'金額(千円)':'sum'}).reset_index()\n",
        "\n",
        "# Excelファイルを作成\n",
        "writer = pd.ExcelWriter('売上集計表.xlsx')\n",
        "grouped.to_excel(writer, sheet_name='売上集計表', index=False)\n",
        "writer.close()\n",
        "\n",
        "\n",
        "# openpyxlで「売上集計表.xlsx」を読み込む\n",
        "wb = openpyxl.load_workbook('売上集計表.xlsx')\n",
        "ws = wb.active\n",
        "\n",
        "# ヘッダー部分（1行目）を薄いグレー（#F2F2F2）に設定\n",
        "fill = PatternFill(patternType='solid', fgColor='F2F2F2')\n",
        "for cell in ws['A1:C1']:\n",
        "  for c in cell:\n",
        "    c.fill = fill\n",
        "\n",
        "# 重複ヘッダーを削除\n",
        "ws.delete_rows(14,1)\n",
        "\n",
        "wb.save('売上集計表.xlsx')\n"
      ]
    }
  ]
}